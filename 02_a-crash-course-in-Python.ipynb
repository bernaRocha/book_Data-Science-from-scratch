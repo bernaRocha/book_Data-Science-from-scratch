{
 "cells": [
  {
   "cell_type": "code",
   "execution_count": 1,
   "id": "11a48453",
   "metadata": {},
   "outputs": [
    {
     "name": "stdout",
     "output_type": "stream",
     "text": [
      "1 1 2 2 3 3 4 4 5 5 6 1\n",
      "2 1 3 2 4 3 5 4 6 5 7 2\n",
      "3 1 4 2 5 3 6 4 7 5 8 3\n",
      "4 1 5 2 6 3 7 4 8 5 9 4\n",
      "5 1 6 2 7 3 8 4 9 5 10 5\n",
      "done looping\n"
     ]
    }
   ],
   "source": [
    "for i in [1, 2, 3, 4, 5]:\n",
    "    print(i, end=' ')                    # first line in \"for i\" block\n",
    "    for j in [1, 2, 3, 4, 5]:\n",
    "        print(j, end=' ')                # first line in \"for j\" block\n",
    "        print(i + j, end=' ')            # last line in \"for j\" block\n",
    "    print(i)                    # last line in \"for i\" block\n",
    "print(\"done looping\")"
   ]
  },
  {
   "cell_type": "code",
   "execution_count": 2,
   "id": "34e0420f",
   "metadata": {},
   "outputs": [],
   "source": [
    "list_of_lists = [[1, 2, 3], [4, 5, 6], [7, 8, 9]]\n",
    "\n",
    "easier_to_read_list_of_lists = [[1, 2, 3],\n",
    "                                [4, 5, 6],\n",
    "                                [7, 8, 9]]"
   ]
  },
  {
   "cell_type": "code",
   "execution_count": 3,
   "id": "72d8aa6c",
   "metadata": {},
   "outputs": [],
   "source": [
    "two_plus_three = 2 + \\\n",
    "                 3"
   ]
  },
  {
   "cell_type": "markdown",
   "id": "d41b37af",
   "metadata": {},
   "source": [
    "## Modules"
   ]
  },
  {
   "cell_type": "code",
   "execution_count": 4,
   "id": "0b94aff4",
   "metadata": {},
   "outputs": [],
   "source": [
    "import re"
   ]
  },
  {
   "cell_type": "code",
   "execution_count": 5,
   "id": "6602bccc",
   "metadata": {},
   "outputs": [],
   "source": [
    "my_regex = re.compile(\"[0-9]+\", re.I)"
   ]
  },
  {
   "cell_type": "code",
   "execution_count": 6,
   "id": "d9cb4732",
   "metadata": {},
   "outputs": [
    {
     "data": {
      "text/plain": [
       "re.compile(r'[0-9]+', re.IGNORECASE|re.UNICODE)"
      ]
     },
     "execution_count": 6,
     "metadata": {},
     "output_type": "execute_result"
    }
   ],
   "source": [
    "my_regex"
   ]
  },
  {
   "cell_type": "code",
   "execution_count": 7,
   "id": "4d34b71e",
   "metadata": {},
   "outputs": [],
   "source": [
    "import re as regex"
   ]
  },
  {
   "cell_type": "code",
   "execution_count": 8,
   "id": "3f91dd7d",
   "metadata": {},
   "outputs": [],
   "source": [
    "my_regex = regex.compile(\"[0-9]+\", regex.I)"
   ]
  },
  {
   "cell_type": "code",
   "execution_count": 9,
   "id": "f7d0b98e",
   "metadata": {},
   "outputs": [
    {
     "data": {
      "text/plain": [
       "re.compile(r'[0-9]+', re.IGNORECASE|re.UNICODE)"
      ]
     },
     "execution_count": 9,
     "metadata": {},
     "output_type": "execute_result"
    }
   ],
   "source": [
    "my_regex"
   ]
  },
  {
   "cell_type": "code",
   "execution_count": 10,
   "id": "1cf05f54",
   "metadata": {},
   "outputs": [],
   "source": [
    "from collections import defaultdict, Counter"
   ]
  },
  {
   "cell_type": "code",
   "execution_count": 11,
   "id": "9d042592",
   "metadata": {},
   "outputs": [],
   "source": [
    "lookup = defaultdict(int)\n",
    "my_counter = Counter()"
   ]
  },
  {
   "cell_type": "code",
   "execution_count": 12,
   "id": "bae32045",
   "metadata": {},
   "outputs": [
    {
     "name": "stdout",
     "output_type": "stream",
     "text": [
      "<function match at 0x7fddeb13f3a0>\n"
     ]
    }
   ],
   "source": [
    "match = 10\n",
    "from re import *    # uh oh, re has a match function\n",
    "print(match)        # \"<function match at 0x10281e6a8>\""
   ]
  },
  {
   "cell_type": "markdown",
   "id": "e7890fc7",
   "metadata": {},
   "source": [
    "## Functions"
   ]
  },
  {
   "cell_type": "code",
   "execution_count": 18,
   "id": "ed006ebf",
   "metadata": {},
   "outputs": [],
   "source": [
    "def double(x):\n",
    "    \"\"\"\n",
    "    This is where you put an optional docstring that explains what the\n",
    "    function does. For example, this function multiplies its input by 2.\n",
    "    \"\"\"\n",
    "    return x * 2"
   ]
  },
  {
   "cell_type": "code",
   "execution_count": 19,
   "id": "cf5ac1d8",
   "metadata": {},
   "outputs": [
    {
     "data": {
      "text/plain": [
       "136"
      ]
     },
     "execution_count": 19,
     "metadata": {},
     "output_type": "execute_result"
    }
   ],
   "source": [
    "double(68)"
   ]
  },
  {
   "cell_type": "code",
   "execution_count": 29,
   "id": "67a99b5e",
   "metadata": {},
   "outputs": [],
   "source": [
    "def apply_to_one(f):\n",
    "    \"\"\"Calls the function f with 1 as its argument\"\"\"\n",
    "    return f(1)"
   ]
  },
  {
   "cell_type": "code",
   "execution_count": 30,
   "id": "aeb9caca",
   "metadata": {},
   "outputs": [],
   "source": [
    "my_double = double             # refers to the previously defined function | x * 2\n",
    "x = apply_to_one(my_double)    # equals 2 | 1 * 2"
   ]
  },
  {
   "cell_type": "code",
   "execution_count": 31,
   "id": "bcc555fa",
   "metadata": {},
   "outputs": [
    {
     "data": {
      "text/plain": [
       "2"
      ]
     },
     "execution_count": 31,
     "metadata": {},
     "output_type": "execute_result"
    }
   ],
   "source": [
    "x"
   ]
  },
  {
   "cell_type": "code",
   "execution_count": 32,
   "id": "673c04be",
   "metadata": {},
   "outputs": [
    {
     "data": {
      "text/plain": [
       "5"
      ]
     },
     "execution_count": 32,
     "metadata": {},
     "output_type": "execute_result"
    }
   ],
   "source": [
    "y = apply_to_one(lambda x: x + 4)      # equals 5\n",
    "y"
   ]
  },
  {
   "cell_type": "code",
   "execution_count": 33,
   "id": "22de568f",
   "metadata": {},
   "outputs": [],
   "source": [
    "another_double = lambda x: 2 * x       # don't do this"
   ]
  },
  {
   "cell_type": "code",
   "execution_count": 34,
   "id": "6669518f",
   "metadata": {},
   "outputs": [],
   "source": [
    "def another_double(x):\n",
    "    \"\"\"Do this instead\"\"\"\n",
    "    return 2 * x"
   ]
  },
  {
   "cell_type": "code",
   "execution_count": 35,
   "id": "495db9e9",
   "metadata": {},
   "outputs": [
    {
     "data": {
      "text/plain": [
       "12"
      ]
     },
     "execution_count": 35,
     "metadata": {},
     "output_type": "execute_result"
    }
   ],
   "source": [
    "another_double(6)"
   ]
  },
  {
   "cell_type": "code",
   "execution_count": 36,
   "id": "d3ebb0a4",
   "metadata": {},
   "outputs": [],
   "source": [
    "def my_print(message = \"my default message\"):\n",
    "    print(message)"
   ]
  },
  {
   "cell_type": "code",
   "execution_count": 37,
   "id": "bbfb9afa",
   "metadata": {},
   "outputs": [
    {
     "name": "stdout",
     "output_type": "stream",
     "text": [
      "my default message\n"
     ]
    }
   ],
   "source": [
    "my_print()"
   ]
  },
  {
   "cell_type": "code",
   "execution_count": 38,
   "id": "2035209d",
   "metadata": {},
   "outputs": [
    {
     "name": "stdout",
     "output_type": "stream",
     "text": [
      "hello\n",
      "my default message\n"
     ]
    }
   ],
   "source": [
    "my_print(\"hello\")   # prints 'hello'\n",
    "my_print()          # prints 'my default message"
   ]
  },
  {
   "cell_type": "code",
   "execution_count": 39,
   "id": "2d0276fc",
   "metadata": {},
   "outputs": [
    {
     "name": "stdout",
     "output_type": "stream",
     "text": [
      "not default\n"
     ]
    }
   ],
   "source": [
    "my_print(\"not default\")"
   ]
  },
  {
   "cell_type": "code",
   "execution_count": 41,
   "id": "b1474f6e",
   "metadata": {},
   "outputs": [],
   "source": [
    "# Not in the book\n",
    "def multiply(x, y = 0):\n",
    "    \"\"\"If you don't declare y, it's valueis zero \"\"\"\n",
    "    return x * y"
   ]
  },
  {
   "cell_type": "code",
   "execution_count": 42,
   "id": "293a6b23",
   "metadata": {},
   "outputs": [
    {
     "data": {
      "text/plain": [
       "14"
      ]
     },
     "execution_count": 42,
     "metadata": {},
     "output_type": "execute_result"
    }
   ],
   "source": [
    "multiply(2, 7)"
   ]
  },
  {
   "cell_type": "code",
   "execution_count": 43,
   "id": "a37a9f76",
   "metadata": {},
   "outputs": [
    {
     "data": {
      "text/plain": [
       "0"
      ]
     },
     "execution_count": 43,
     "metadata": {},
     "output_type": "execute_result"
    }
   ],
   "source": [
    "multiply(9)"
   ]
  },
  {
   "cell_type": "code",
   "execution_count": 46,
   "id": "0e3be9cc",
   "metadata": {},
   "outputs": [],
   "source": [
    "def full_name(first = \"What's-his-name\", last = \"Something\"):\n",
    "    return first + \" \" + last"
   ]
  },
  {
   "cell_type": "code",
   "execution_count": 47,
   "id": "6d49eedf",
   "metadata": {},
   "outputs": [
    {
     "data": {
      "text/plain": [
       "'Joel Grus'"
      ]
     },
     "execution_count": 47,
     "metadata": {},
     "output_type": "execute_result"
    }
   ],
   "source": [
    "full_name(\"Joel\", \"Grus\")     # \"Joel Grus\""
   ]
  },
  {
   "cell_type": "code",
   "execution_count": 48,
   "id": "a8836796",
   "metadata": {},
   "outputs": [
    {
     "data": {
      "text/plain": [
       "'Joel Something'"
      ]
     },
     "execution_count": 48,
     "metadata": {},
     "output_type": "execute_result"
    }
   ],
   "source": [
    "full_name(\"Joel\")             # \"Joel Something\""
   ]
  },
  {
   "cell_type": "code",
   "execution_count": 49,
   "id": "58602ab2",
   "metadata": {},
   "outputs": [
    {
     "data": {
      "text/plain": [
       "\"What's-his-name Grus\""
      ]
     },
     "execution_count": 49,
     "metadata": {},
     "output_type": "execute_result"
    }
   ],
   "source": [
    "full_name(last=\"Grus\")        # \"What's-his-name Grus"
   ]
  },
  {
   "cell_type": "markdown",
   "id": "39ae1125",
   "metadata": {},
   "source": [
    "## Strings"
   ]
  },
  {
   "cell_type": "code",
   "execution_count": 50,
   "id": "bb0a17a1",
   "metadata": {},
   "outputs": [
    {
     "data": {
      "text/plain": [
       "1"
      ]
     },
     "execution_count": 50,
     "metadata": {},
     "output_type": "execute_result"
    }
   ],
   "source": [
    "tab_string = \"\\t\"       # represents the tab character\n",
    "len(tab_string)         # is 1"
   ]
  },
  {
   "cell_type": "code",
   "execution_count": null,
   "id": "2e33cb4e",
   "metadata": {},
   "outputs": [],
   "source": [
    "# Raw string\n",
    "not_tab_string = r\"\\t\"  # represents the characters '\\' and 't'\n",
    "len(not_tab_string)     # is 2"
   ]
  },
  {
   "cell_type": "code",
   "execution_count": 53,
   "id": "07195149",
   "metadata": {},
   "outputs": [],
   "source": [
    "first_name = \"Bernardo\"\n",
    "last_name = \"Monteiro Rocha\""
   ]
  },
  {
   "cell_type": "code",
   "execution_count": 56,
   "id": "cbadbde9",
   "metadata": {},
   "outputs": [
    {
     "data": {
      "text/plain": [
       "'Bernardo Monteiro Rocha'"
      ]
     },
     "execution_count": 56,
     "metadata": {},
     "output_type": "execute_result"
    }
   ],
   "source": [
    "full_name1 = first_name + \" \" + last_name             # string addition\n",
    "full_name1"
   ]
  },
  {
   "cell_type": "code",
   "execution_count": 57,
   "id": "64cbbd79",
   "metadata": {},
   "outputs": [
    {
     "data": {
      "text/plain": [
       "'Bernardo Monteiro Rocha'"
      ]
     },
     "execution_count": 57,
     "metadata": {},
     "output_type": "execute_result"
    }
   ],
   "source": [
    "full_name2 = \"{0} {1}\".format(first_name, last_name)  # string.format but the f-string way is much less unwieldy: full_name3 = f\"{first_name} {last_name}\"\n",
    "full_name2"
   ]
  },
  {
   "cell_type": "code",
   "execution_count": 58,
   "id": "18bb1768",
   "metadata": {},
   "outputs": [
    {
     "data": {
      "text/plain": [
       "'Bernardo Monteiro Rocha'"
      ]
     },
     "execution_count": 58,
     "metadata": {},
     "output_type": "execute_result"
    }
   ],
   "source": [
    "full_name3 = f\"{first_name} {last_name}\"\n",
    "full_name3"
   ]
  },
  {
   "cell_type": "markdown",
   "id": "fc1ad37c",
   "metadata": {},
   "source": [
    "## Exceptions"
   ]
  },
  {
   "cell_type": "code",
   "execution_count": 59,
   "id": "d0d158bf",
   "metadata": {},
   "outputs": [
    {
     "name": "stdout",
     "output_type": "stream",
     "text": [
      "cannot divide by zero\n"
     ]
    }
   ],
   "source": [
    "try:\n",
    "    print(0 / 0)\n",
    "except ZeroDivisionError:\n",
    "    print(\"cannot divide by zero\")"
   ]
  },
  {
   "cell_type": "markdown",
   "id": "2255ca7c",
   "metadata": {},
   "source": [
    "## Lists"
   ]
  },
  {
   "cell_type": "code",
   "execution_count": 60,
   "id": "0b08582f",
   "metadata": {},
   "outputs": [],
   "source": [
    "# An ordered collection\n",
    "\n",
    "integer_list = [1, 2, 3]\n",
    "heterogeneous_list = [\"string\", 0.1, True]\n",
    "list_of_lists = [integer_list, heterogeneous_list, []]"
   ]
  },
  {
   "cell_type": "code",
   "execution_count": 61,
   "id": "4e2eb6df",
   "metadata": {},
   "outputs": [],
   "source": [
    "list_length = len(integer_list)     # equals 3\n",
    "list_sum    = sum(integer_list)     # equals 6"
   ]
  },
  {
   "cell_type": "code",
   "execution_count": 63,
   "id": "f2927a69",
   "metadata": {},
   "outputs": [],
   "source": [
    "x = [0, 1, 2, 3, 4, 5, 6, 7, 8, 9]"
   ]
  },
  {
   "cell_type": "code",
   "execution_count": 64,
   "id": "a0691c1c",
   "metadata": {},
   "outputs": [],
   "source": [
    "zero = x[0]          # equals 0, lists are 0-indexed\n",
    "one = x[1]           # equals 1\n",
    "nine = x[-1]         # equals 9, 'Pythonic' for last element\n",
    "eight = x[-2]        # equals 8, 'Pythonic' for next-to-last element\n",
    "x[0] = -1            # now x is [-1, 1, 2, 3, ..., 9] "
   ]
  },
  {
   "cell_type": "code",
   "execution_count": 65,
   "id": "7a72bd61",
   "metadata": {},
   "outputs": [
    {
     "data": {
      "text/plain": [
       "[-1, 1, 2, 3, 4, 5, 6, 7, 8, 9]"
      ]
     },
     "execution_count": 65,
     "metadata": {},
     "output_type": "execute_result"
    }
   ],
   "source": [
    "x                    # now x is [-1, 1, 2, 3, 4, 5, 6, 7, 8, 9]"
   ]
  },
  {
   "cell_type": "code",
   "execution_count": 66,
   "id": "f53303db",
   "metadata": {},
   "outputs": [],
   "source": [
    "x[-2] = 90"
   ]
  },
  {
   "cell_type": "code",
   "execution_count": 67,
   "id": "094f2ee2",
   "metadata": {},
   "outputs": [
    {
     "data": {
      "text/plain": [
       "[-1, 1, 2, 3, 4, 5, 6, 7, 90, 9]"
      ]
     },
     "execution_count": 67,
     "metadata": {},
     "output_type": "execute_result"
    }
   ],
   "source": [
    "x                   # now x = [-1, 1, 2, 3, 4, 5, 6, 7, 90, 9]"
   ]
  },
  {
   "cell_type": "code",
   "execution_count": 68,
   "id": "d63b91a8",
   "metadata": {},
   "outputs": [],
   "source": [
    "first_three = x[:3]                 # [-1, 1, 2]\n",
    "three_to_end = x[3:]                # [3, 4, ..., 9]\n",
    "one_to_four = x[1:5]                # [1, 2, 3, 4]\n",
    "last_three = x[-3:]                 # [7, 8, 9]\n",
    "without_first_and_last = x[1:-1]    # [1, 2, ..., 8]\n",
    "copy_of_x = x[:]                    # [-1, 1, 2, ..., 9]"
   ]
  },
  {
   "cell_type": "code",
   "execution_count": 70,
   "id": "ebf9a704",
   "metadata": {},
   "outputs": [
    {
     "data": {
      "text/plain": [
       "[-1, 3, 6, 9]"
      ]
     },
     "execution_count": 70,
     "metadata": {},
     "output_type": "execute_result"
    }
   ],
   "source": [
    "every_third = x[::3]\n",
    "every_third"
   ]
  },
  {
   "cell_type": "code",
   "execution_count": 71,
   "id": "a13ad203",
   "metadata": {},
   "outputs": [
    {
     "data": {
      "text/plain": [
       "[5, 4, 3]"
      ]
     },
     "execution_count": 71,
     "metadata": {},
     "output_type": "execute_result"
    }
   ],
   "source": [
    "five_to_three = x[5:2:-1]\n",
    "five_to_three"
   ]
  },
  {
   "cell_type": "code",
   "execution_count": 72,
   "id": "2c381f83",
   "metadata": {},
   "outputs": [
    {
     "data": {
      "text/plain": [
       "False"
      ]
     },
     "execution_count": 72,
     "metadata": {},
     "output_type": "execute_result"
    }
   ],
   "source": [
    "8 in [0, 9, 7]"
   ]
  },
  {
   "cell_type": "code",
   "execution_count": 73,
   "id": "48f83197",
   "metadata": {},
   "outputs": [
    {
     "data": {
      "text/plain": [
       "True"
      ]
     },
     "execution_count": 73,
     "metadata": {},
     "output_type": "execute_result"
    }
   ],
   "source": [
    "2 in [2, 2, 2, 2]"
   ]
  },
  {
   "cell_type": "code",
   "execution_count": 74,
   "id": "f7597a90",
   "metadata": {},
   "outputs": [],
   "source": [
    "on_the_contrary = \"collection of meaningless words\""
   ]
  },
  {
   "cell_type": "code",
   "execution_count": null,
   "id": "11622ae8",
   "metadata": {},
   "outputs": [],
   "source": []
  },
  {
   "cell_type": "code",
   "execution_count": 75,
   "id": "7c660125",
   "metadata": {},
   "outputs": [
    {
     "data": {
      "text/plain": [
       "'sdrow sselgninaem fo noitcelloc'"
      ]
     },
     "execution_count": 75,
     "metadata": {},
     "output_type": "execute_result"
    }
   ],
   "source": [
    "on_the_contrary[::-1]   # 'sdrow sselgninaem fo noitcelloc'"
   ]
  },
  {
   "cell_type": "code",
   "execution_count": 76,
   "id": "2d050e9f",
   "metadata": {},
   "outputs": [],
   "source": [
    "x = [1, 2, 3]\n",
    "x.extend([4, 5, 6])     # x is now [1, 2, 3, 4, 5, 6]\n",
    "x"
   ]
  },
  {
   "cell_type": "code",
   "execution_count": 78,
   "id": "d30bcc36",
   "metadata": {},
   "outputs": [
    {
     "data": {
      "text/plain": [
       "[1, 2, 3, 4, 5, 6, 7, 8, 9, 10]"
      ]
     },
     "execution_count": 78,
     "metadata": {},
     "output_type": "execute_result"
    }
   ],
   "source": [
    "y = x +  [7, 8,  9, 10]\n",
    "y                       # [1, 2, 3, 4, 5, 6, 7, 8, 9, 10]     "
   ]
  },
  {
   "cell_type": "code",
   "execution_count": 79,
   "id": "08440692",
   "metadata": {},
   "outputs": [],
   "source": [
    "y.append(0)"
   ]
  },
  {
   "cell_type": "code",
   "execution_count": 80,
   "id": "13af0543",
   "metadata": {},
   "outputs": [
    {
     "data": {
      "text/plain": [
       "[1, 2, 3, 4, 5, 6, 7, 8, 9, 10, 0]"
      ]
     },
     "execution_count": 80,
     "metadata": {},
     "output_type": "execute_result"
    }
   ],
   "source": [
    "y"
   ]
  },
  {
   "cell_type": "code",
   "execution_count": 82,
   "id": "a336604d",
   "metadata": {},
   "outputs": [],
   "source": [
    "x, y = [1, 2]           # now x is 1, y is 2"
   ]
  },
  {
   "cell_type": "code",
   "execution_count": 85,
   "id": "47e33324",
   "metadata": {
    "collapsed": true
   },
   "outputs": [
    {
     "ename": "ValueError",
     "evalue": "not enough values to unpack (expected 3, got 2)",
     "output_type": "error",
     "traceback": [
      "\u001b[0;31m---------------------------------------------------------------------------\u001b[0m",
      "\u001b[0;31mValueError\u001b[0m                                Traceback (most recent call last)",
      "Cell \u001b[0;32mIn [85], line 1\u001b[0m\n\u001b[0;32m----> 1\u001b[0m q, w, r \u001b[38;5;241m=\u001b[39m[\u001b[38;5;241m3\u001b[39m, \u001b[38;5;241m5\u001b[39m ]\n",
      "\u001b[0;31mValueError\u001b[0m: not enough values to unpack (expected 3, got 2)"
     ]
    }
   ],
   "source": [
    "q, w, r =[3, 5]         # ValueError: not enough values to unpack (expected 3, got 2)"
   ]
  },
  {
   "cell_type": "code",
   "execution_count": 86,
   "id": "46be746a",
   "metadata": {},
   "outputs": [],
   "source": [
    "_, f = [0, 8]\n",
    "_"
   ]
  },
  {
   "cell_type": "code",
   "execution_count": 88,
   "id": "f67ebe85",
   "metadata": {},
   "outputs": [
    {
     "data": {
      "text/plain": [
       "8"
      ]
     },
     "execution_count": 88,
     "metadata": {},
     "output_type": "execute_result"
    }
   ],
   "source": [
    "f"
   ]
  },
  {
   "cell_type": "markdown",
   "id": "20edbe93",
   "metadata": {},
   "source": [
    "## Tuples"
   ]
  },
  {
   "cell_type": "code",
   "execution_count": 89,
   "id": "2c752cb9",
   "metadata": {},
   "outputs": [],
   "source": [
    "my_list = [1, 2]\n",
    "my_tuple = (1, 2)\n",
    "other_tuple = 3, 4\n",
    "my_list[1] = 3      # my_list is now [1, 3]"
   ]
  },
  {
   "cell_type": "code",
   "execution_count": 90,
   "id": "099ac2cb",
   "metadata": {},
   "outputs": [
    {
     "name": "stdout",
     "output_type": "stream",
     "text": [
      "cannot modify a tuple\n"
     ]
    }
   ],
   "source": [
    "try:\n",
    "    my_tuple[1] = 3\n",
    "except TypeError:\n",
    "    print(\"cannot modify a tuple\")"
   ]
  },
  {
   "cell_type": "code",
   "execution_count": 91,
   "id": "04d54f67",
   "metadata": {},
   "outputs": [],
   "source": [
    "def sum_and_product(x, y):\n",
    "    return (x + y), (x * y)\n",
    "\n",
    "sp = sum_and_product(2, 3)          # sp is (5, 6)\n",
    "s, p = sum_and_product(5, 10)       # s is 15, p is 50\""
   ]
  },
  {
   "cell_type": "code",
   "execution_count": 94,
   "id": "5d5591d5",
   "metadata": {},
   "outputs": [],
   "source": [
    "x, y = 1, 2                         # now x is 1, y is 2\n",
    "x, y = y, x                         # Pythonic way to swap variables; now x is 2, y is 1"
   ]
  },
  {
   "cell_type": "markdown",
   "id": "d5f7c79f",
   "metadata": {},
   "source": [
    "## Dictionaries"
   ]
  },
  {
   "cell_type": "code",
   "execution_count": 95,
   "id": "a76890dc",
   "metadata": {},
   "outputs": [],
   "source": [
    "empty_dict = {}                     # Pythonic\n",
    "empty_dict2 = dict()                # less Pythonic"
   ]
  },
  {
   "cell_type": "code",
   "execution_count": 96,
   "id": "86a4a2de",
   "metadata": {},
   "outputs": [],
   "source": [
    "grades = {\"Berna\": 90, \"Adam\": 67}  # Dictionary literal"
   ]
  },
  {
   "cell_type": "code",
   "execution_count": 98,
   "id": "76ea31c9",
   "metadata": {},
   "outputs": [
    {
     "data": {
      "text/plain": [
       "90"
      ]
     },
     "execution_count": 98,
     "metadata": {},
     "output_type": "execute_result"
    }
   ],
   "source": [
    "berna_grade = grades[\"Berna\"]\n",
    "berna_grade"
   ]
  },
  {
   "cell_type": "code",
   "execution_count": 100,
   "id": "73711167",
   "metadata": {
    "collapsed": true
   },
   "outputs": [
    {
     "ename": "KeyError",
     "evalue": "'nonexistent'",
     "output_type": "error",
     "traceback": [
      "\u001b[0;31m---------------------------------------------------------------------------\u001b[0m",
      "\u001b[0;31mKeyError\u001b[0m                                  Traceback (most recent call last)",
      "Cell \u001b[0;32mIn [100], line 1\u001b[0m\n\u001b[0;32m----> 1\u001b[0m error \u001b[38;5;241m=\u001b[39m \u001b[43mgrades\u001b[49m\u001b[43m[\u001b[49m\u001b[38;5;124;43m\"\u001b[39;49m\u001b[38;5;124;43mnonexistent\u001b[39;49m\u001b[38;5;124;43m\"\u001b[39;49m\u001b[43m]\u001b[49m       \u001b[38;5;66;03m# KeyError: 'nonexistent'\u001b[39;00m\n\u001b[1;32m      2\u001b[0m error\n",
      "\u001b[0;31mKeyError\u001b[0m: 'nonexistent'"
     ]
    }
   ],
   "source": [
    "error = grades[\"nonexistent\"]       # KeyError: 'nonexistent'"
   ]
  },
  {
   "cell_type": "code",
   "execution_count": 101,
   "id": "3ea4fb21",
   "metadata": {},
   "outputs": [
    {
     "name": "stdout",
     "output_type": "stream",
     "text": [
      "no grade for Kate!\n"
     ]
    }
   ],
   "source": [
    "try:\n",
    "    kates_grade = grades[\"Kate\"]\n",
    "except KeyError:\n",
    "    print(\"no grade for Kate!\")"
   ]
  },
  {
   "cell_type": "code",
   "execution_count": 102,
   "id": "b044fa2a",
   "metadata": {},
   "outputs": [],
   "source": [
    "joel_has_grade = \"Joel\" in grades     # False\n",
    "kate_has_grade = \"Kate\" in grades     # False"
   ]
  },
  {
   "cell_type": "code",
   "execution_count": 105,
   "id": "09fd4790",
   "metadata": {},
   "outputs": [
    {
     "data": {
      "text/plain": [
       "False"
      ]
     },
     "execution_count": 105,
     "metadata": {},
     "output_type": "execute_result"
    }
   ],
   "source": [
    "maybe = \"Maybe\" in grades\n",
    "maybe"
   ]
  },
  {
   "cell_type": "code",
   "execution_count": 111,
   "id": "56f5888c",
   "metadata": {},
   "outputs": [],
   "source": [
    "kates_grade = grades.get(\"Kate\", 0)   # equals 0"
   ]
  },
  {
   "cell_type": "code",
   "execution_count": 112,
   "id": "9410eb35",
   "metadata": {},
   "outputs": [
    {
     "data": {
      "text/plain": [
       "0"
      ]
     },
     "execution_count": 112,
     "metadata": {},
     "output_type": "execute_result"
    }
   ],
   "source": [
    "kates_grade"
   ]
  },
  {
   "cell_type": "code",
   "execution_count": 109,
   "id": "9c66a605",
   "metadata": {},
   "outputs": [
    {
     "data": {
      "text/plain": [
       "90"
      ]
     },
     "execution_count": 109,
     "metadata": {},
     "output_type": "execute_result"
    }
   ],
   "source": [
    "bernas_grade = grades.get(\"Berna\", 0)\n",
    "bernas_grade"
   ]
  },
  {
   "cell_type": "code",
   "execution_count": 115,
   "id": "08fe8a01",
   "metadata": {},
   "outputs": [],
   "source": [
    "no_ones_grade = grades.get(\"No One\")  # default is None"
   ]
  },
  {
   "cell_type": "code",
   "execution_count": 116,
   "id": "3617a85a",
   "metadata": {},
   "outputs": [],
   "source": []
  },
  {
   "cell_type": "code",
   "execution_count": null,
   "id": "78633029",
   "metadata": {},
   "outputs": [],
   "source": []
  }
 ],
 "metadata": {
  "kernelspec": {
   "display_name": "Python 3 (ipykernel)",
   "language": "python",
   "name": "python3"
  },
  "language_info": {
   "codemirror_mode": {
    "name": "ipython",
    "version": 3
   },
   "file_extension": ".py",
   "mimetype": "text/x-python",
   "name": "python",
   "nbconvert_exporter": "python",
   "pygments_lexer": "ipython3",
   "version": "3.8.10"
  }
 },
 "nbformat": 4,
 "nbformat_minor": 5
}
