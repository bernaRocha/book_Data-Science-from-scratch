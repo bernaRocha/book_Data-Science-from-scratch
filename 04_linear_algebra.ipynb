{
 "cells": [
  {
   "cell_type": "code",
   "execution_count": 1,
   "id": "8cae2ac4",
   "metadata": {},
   "outputs": [],
   "source": [
    "from typing import List"
   ]
  },
  {
   "cell_type": "code",
   "execution_count": 2,
   "id": "abd2d9f4",
   "metadata": {},
   "outputs": [],
   "source": [
    "Vector = List[float]"
   ]
  },
  {
   "cell_type": "code",
   "execution_count": 3,
   "id": "cf9268bb",
   "metadata": {},
   "outputs": [],
   "source": [
    "height_weight_age = [\n",
    "    70, \n",
    "    170, \n",
    "    40              ]"
   ]
  },
  {
   "cell_type": "code",
   "execution_count": 4,
   "id": "d79a9b41",
   "metadata": {},
   "outputs": [],
   "source": [
    "grades = [\n",
    "    95,\n",
    "    80,\n",
    "    75,\n",
    "    62   ]"
   ]
  },
  {
   "cell_type": "markdown",
   "id": "dab8d424",
   "metadata": {},
   "source": [
    "Python lists aren´t vectors"
   ]
  },
  {
   "cell_type": "code",
   "execution_count": 6,
   "id": "17488f1f",
   "metadata": {},
   "outputs": [],
   "source": [
    "def add(v: Vector, w: Vector) -> Vector:\n",
    "    \"\"\"Adds corressponding elements\"\"\"\n",
    "    assert len(v) ==len(w), \"vectors must be the same lenght\"\n",
    "    return [v_i + w_i for v_i, w_i in zip(v, w)]"
   ]
  },
  {
   "cell_type": "code",
   "execution_count": 8,
   "id": "2ceb7f04",
   "metadata": {},
   "outputs": [
    {
     "data": {
      "text/plain": [
       "True"
      ]
     },
     "execution_count": 8,
     "metadata": {},
     "output_type": "execute_result"
    }
   ],
   "source": [
    "add([1, 2, 4], [6, 8, 3]) == [7, 10, 7]"
   ]
  },
  {
   "cell_type": "code",
   "execution_count": 9,
   "id": "363b7a7a",
   "metadata": {},
   "outputs": [],
   "source": [
    "def subtract(v: Vector, w: Vector) -> Vector:\n",
    "    \"\"\"Subtracts corressponding elements\"\"\"\n",
    "    assert len(v) ==len(w), \"vectors must be the same lenght\"\n",
    "    return [v_i - w_i for v_i, w_i in zip(v, w)]"
   ]
  },
  {
   "cell_type": "code",
   "execution_count": 11,
   "id": "43861661",
   "metadata": {},
   "outputs": [
    {
     "data": {
      "text/plain": [
       "[4, 7, 5]"
      ]
     },
     "execution_count": 11,
     "metadata": {},
     "output_type": "execute_result"
    }
   ],
   "source": [
    "subtract([8, 9, 6], [4, 2, 1])"
   ]
  },
  {
   "cell_type": "code",
   "execution_count": 18,
   "id": "668c8b4e",
   "metadata": {},
   "outputs": [],
   "source": [
    "def vector_sum(vectors: List[Vector])-> Vector:\n",
    "    '''Sums all corresponding elements'''\n",
    "    # Check that vectors is not empty\n",
    "    assert vectors, \"no vectors provided!\"\n",
    "    \n",
    "    # Check the vectors are all the same size\n",
    "    num_elements = len(vectors[0])\n",
    "    assert all(len(v) == num_elements for v in vectors), \"different sizes\"\n",
    "    \n",
    "    # the i-th element of the result is the sum of every vector[i]\n",
    "    return [sum(vector[i] for vector in vectors) for i in range(num_elements)]\n"
   ]
  },
  {
   "cell_type": "code",
   "execution_count": 19,
   "id": "ed2a7f93",
   "metadata": {},
   "outputs": [],
   "source": [
    "assert vector_sum([[1, 2], [3, 4], [5, 6], [7, 8]]) == [16, 20]"
   ]
  },
  {
   "cell_type": "code",
   "execution_count": 20,
   "id": "1892554c",
   "metadata": {},
   "outputs": [
    {
     "data": {
      "text/plain": [
       "True"
      ]
     },
     "execution_count": 20,
     "metadata": {},
     "output_type": "execute_result"
    }
   ],
   "source": [
    "vector_sum([[1, 2], [3, 4], [5, 6], [7, 8]]) == [16, 20]"
   ]
  },
  {
   "cell_type": "code",
   "execution_count": 21,
   "id": "cd13e33c",
   "metadata": {},
   "outputs": [
    {
     "data": {
      "text/plain": [
       "[16, 20]"
      ]
     },
     "execution_count": 21,
     "metadata": {},
     "output_type": "execute_result"
    }
   ],
   "source": [
    "vector_sum([[1, 2], [3, 4], [5, 6], [7, 8]])"
   ]
  },
  {
   "cell_type": "code",
   "execution_count": null,
   "id": "d2e872de",
   "metadata": {},
   "outputs": [],
   "source": []
  }
 ],
 "metadata": {
  "kernelspec": {
   "display_name": "Python 3 (ipykernel)",
   "language": "python",
   "name": "python3"
  },
  "language_info": {
   "codemirror_mode": {
    "name": "ipython",
    "version": 3
   },
   "file_extension": ".py",
   "mimetype": "text/x-python",
   "name": "python",
   "nbconvert_exporter": "python",
   "pygments_lexer": "ipython3",
   "version": "3.11.3"
  }
 },
 "nbformat": 4,
 "nbformat_minor": 5
}
